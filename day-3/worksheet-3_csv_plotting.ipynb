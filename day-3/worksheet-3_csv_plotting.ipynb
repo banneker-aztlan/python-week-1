{
 "cells": [
  {
   "cell_type": "markdown",
   "metadata": {},
   "source": [
    "# Worksheet 3 - Reading and Plotting CSV files"
   ]
  },
  {
   "cell_type": "markdown",
   "metadata": {},
   "source": [
    "We are going to use the file **\"`bh_m_sigma.csv`\"** from \"`python-week-1/day-3/`\""
   ]
  },
  {
   "cell_type": "markdown",
   "metadata": {},
   "source": [
    "## 1) Download the Data file **\"`bh_m_sigma.csv`\"**"
   ]
  },
  {
   "cell_type": "markdown",
   "metadata": {},
   "source": [
    "Download/clone the github repository: https://github.com/banneker-aztlan/python-week-1\n",
    "\n",
    "Or use this link: https://raw.githubusercontent.com/banneker-aztlan/python-week-1/master/day-3/bh_m_sigma.csv"
   ]
  },
  {
   "cell_type": "code",
   "execution_count": null,
   "metadata": {},
   "outputs": [],
   "source": [
    "import os\n",
    "print(\"This jupyter notebook is in: '{}'\".format(os.getcwd()))"
   ]
  },
  {
   "cell_type": "markdown",
   "metadata": {},
   "source": [
    "## 2) Make sure this notebook can locate the file"
   ]
  },
  {
   "cell_type": "markdown",
   "metadata": {},
   "source": [
    "Either change the \"`data_fname`\" variable below to where you downloaded the file, or move the file to the current directory."
   ]
  },
  {
   "cell_type": "code",
   "execution_count": null,
   "metadata": {},
   "outputs": [],
   "source": [
    "data_fname = \"./bh_m_sigma.csv\"\n",
    "print(\"Was the notebook able to find the file? ==> {} <==\".format(os.path.exists(data_fname)))"
   ]
  },
  {
   "cell_type": "markdown",
   "metadata": {},
   "source": [
    "## 3) Load the data from the file"
   ]
  },
  {
   "cell_type": "markdown",
   "metadata": {},
   "source": [
    "We're going to use the **\"`csv`\"** package to load the data."
   ]
  },
  {
   "cell_type": "markdown",
   "metadata": {},
   "source": [
    "### 3a) Read through and run the following code block to understand what it does."
   ]
  },
  {
   "cell_type": "markdown",
   "metadata": {},
   "source": [
    "### 3b) Modify the code to store the values from each line into two lists: \"`masses`\" and \"`vels`\".  \n",
    "Make sure to convert each value into a `float` (from a `str`)"
   ]
  },
  {
   "cell_type": "markdown",
   "metadata": {},
   "source": [
    "### 3c) Make sure each of the lists contains `93` elements\n",
    "\n",
    "The following values should be there:  \n",
    "```\n",
    "masses[0] = 9.59\n",
    "masses[-1] = masses[92] = 7.033\n",
    "\n",
    "vels[0] = 288.0\n",
    "vels[-1] = vels[92] = 107.0\n",
    "```"
   ]
  },
  {
   "cell_type": "code",
   "execution_count": null,
   "metadata": {
    "collapsed": true
   },
   "outputs": [],
   "source": [
    "import csv\n",
    "\n",
    "with open(data_fname, 'r') as file_in:\n",
    "    # The first line of the file is a \"header\", it describes the data\n",
    "    header = file_in.readline()\n",
    "    # Remove the trailing newline character\n",
    "    header = header.strip()\n",
    "    print(\"header: '{}'\".format(header))\n",
    "\n",
    "    # Now we'll create a \"reader\" object, to read in the actual data\n",
    "    reader = csv.reader(file_in)\n",
    "    # This iterates over each line in the file, and will print it.\n",
    "    for row in reader:\n",
    "        print(row)\n",
    "    "
   ]
  },
  {
   "cell_type": "markdown",
   "metadata": {},
   "source": [
    "## 4) Plot the data using a scatter plot"
   ]
  },
  {
   "cell_type": "markdown",
   "metadata": {},
   "source": [
    "The standard package for plotting is **\"`matplotlib`\"**, it is (unfortunately) not very intuitive, but once you get used to it, it works well."
   ]
  },
  {
   "cell_type": "markdown",
   "metadata": {},
   "source": [
    "The basic objects `matplotlib` uses are **\"`figures`\"** and **\"`axes`\"**.  \n",
    "\n",
    "**`figure`** objects are the overall container for everything we want to plot.  An individual `figure` can have one plot on it, or many different ones.\n",
    "\n",
    "Data is actually plotted onto an **`axes`** object, which is added to the `figure`.  The `axes` object is also responsible for the axes labels, the scalings (linear or logarithmic), the plot title, etc."
   ]
  },
  {
   "cell_type": "markdown",
   "metadata": {},
   "source": [
    "### 4a) Read and run the code below to produce a figure with an empty axes\n",
    "\n",
    "**NOTE**: *if an image doesn't appear, and there is no error-message, try adding the line* \"`%matplotlib inline`\"  *to the top of your file (and run that cell).  If that still doesn't work, holler.*"
   ]
  },
  {
   "cell_type": "markdown",
   "metadata": {},
   "source": [
    "### 4b) Use the \"`ax.scatter()`\" function to plot `masses` on the y-axis, versus `vels` on the x-axis.\n",
    "\n",
    "The documentation for the `scatter()` function can be found here: http://matplotlib.org/api/_as_gen/matplotlib.axes.Axes.scatter.html\n",
    "\n",
    "It takes a while to get used to reading \"documentation\", but it's an important skill.\n",
    "\n",
    "The basic message is that `scatter()` requires two arguments: the x-points, and the y-points.  Try calling `ax.scatter(...)` filling in the appropriate arguments."
   ]
  },
  {
   "cell_type": "markdown",
   "metadata": {},
   "source": [
    "### 4c) Try changing the size, color, and \"marker\" (symbol) of the scatter points"
   ]
  },
  {
   "cell_type": "markdown",
   "metadata": {},
   "source": [
    "### 4d) Search google for how to add labels to the x and y axes.\n",
    "\n",
    "There are a few different ways to do this, but I'd recommend using the \"`axes.set(...)`\" function with the appropriate arguments put in.\n",
    "\n",
    "**BONUS:** *Make the size of each scatter point proportional to the blackhole mass!*"
   ]
  },
  {
   "cell_type": "markdown",
   "metadata": {},
   "source": [
    "### 4e) Search google for how to make the figure bigger, and then how to save the figure to a file.\n",
    "\n",
    "Use the \"`fig.savefig()`\" command to save.\n",
    "\n",
    "**BONUS**: *Figure out how to add a legend to the figure (even though we're only plotting one thing...)*"
   ]
  },
  {
   "cell_type": "code",
   "execution_count": null,
   "metadata": {},
   "outputs": [],
   "source": [
    "# `pyplot` is the standard interface to `matplotlib`; renaming it to `plt` is common\n",
    "import matplotlib.pyplot as plt\n",
    "\n",
    "# Create figure and axes objects using the `subplots()` function\n",
    "fig, ax = plt.subplots()\n",
    "\n",
    "# This command will display the image in the jupyter notebook\n",
    "plt.show()"
   ]
  },
  {
   "cell_type": "markdown",
   "metadata": {},
   "source": [
    "## 5) Plot a histogram of the Black Hole masses"
   ]
  },
  {
   "cell_type": "markdown",
   "metadata": {},
   "source": [
    "Create a new figure and axes, and use the **\"`axes.hist()`\"** function to construct a histogram.\n",
    "\n",
    "### 5a) Start out making the plot using the argument \"`bins=10`\" in the `hist()` function.\n",
    "\n",
    "### 5b) Try creating your own bins (i.e. a list of masses which you want to separate the bins) and use those in the `hist()` function."
   ]
  },
  {
   "cell_type": "code",
   "execution_count": null,
   "metadata": {
    "collapsed": true
   },
   "outputs": [],
   "source": []
  }
 ],
 "metadata": {
  "kernelspec": {
   "display_name": "Python [default]",
   "language": "python",
   "name": "python3"
  },
  "language_info": {
   "codemirror_mode": {
    "name": "ipython",
    "version": 3
   },
   "file_extension": ".py",
   "mimetype": "text/x-python",
   "name": "python",
   "nbconvert_exporter": "python",
   "pygments_lexer": "ipython3",
   "version": "3.5.3"
  }
 },
 "nbformat": 4,
 "nbformat_minor": 2
}
