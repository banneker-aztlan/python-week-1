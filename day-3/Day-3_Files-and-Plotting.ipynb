{
 "cells": [
  {
   "cell_type": "markdown",
   "metadata": {},
   "source": [
    "# Day 3 (okay.. 4) - Files and IO"
   ]
  },
  {
   "cell_type": "markdown",
   "metadata": {},
   "source": [
    "## File paths and the `os`"
   ]
  },
  {
   "cell_type": "markdown",
   "metadata": {},
   "source": [
    "The `os` (for **Operating System**) module provides an interface to interact with the overall computer system that you're running on.  This is required for getting information about the local files and directory structure."
   ]
  },
  {
   "cell_type": "code",
   "execution_count": null,
   "metadata": {},
   "outputs": [],
   "source": [
    "# import os\n",
    "# print(\"Get the 'Current Working Directory':\")"
   ]
  },
  {
   "cell_type": "markdown",
   "metadata": {},
   "source": [
    "We can also ask the OS to create a new directory for us"
   ]
  },
  {
   "cell_type": "code",
   "execution_count": null,
   "metadata": {},
   "outputs": [],
   "source": [
    "# dir_name = \"\"\n",
    "# print(\"Creating '{}'\".format(dir_name))"
   ]
  },
  {
   "cell_type": "markdown",
   "metadata": {},
   "source": [
    "Lets make sure that the directory exists..."
   ]
  },
  {
   "cell_type": "code",
   "execution_count": null,
   "metadata": {},
   "outputs": [],
   "source": [
    "# print(\"these are all of the files in the directory:\")\n",
    "\n",
    "# print(\"\\nThis is whether the directory we created exists:\")\n",
    "\n",
    "# fail_file = \"./chimpanzee.jpg\"\n",
    "# print(\"\\nThis is whether the file '{}' exists:\".format(fail_file))\n",
    "# print(os.path.exists(fail_file))"
   ]
  },
  {
   "cell_type": "markdown",
   "metadata": {},
   "source": [
    "## Reading/Writing to a text file"
   ]
  },
  {
   "cell_type": "markdown",
   "metadata": {},
   "source": [
    "The **`open()`** function opens files for either reading ('`r`') or writing ('`w`').  Let's write something to a file:"
   ]
  },
  {
   "cell_type": "code",
   "execution_count": null,
   "metadata": {},
   "outputs": [],
   "source": [
    "# say = \n",
    "# fname = dir_name + \n",
    "# with open(fname, 'w') as file_out:\n",
    "#     file_out.write(message)\n",
    "\n",
    "# print(\"The file exists?  {}\".format(os.path.exists(fname)))"
   ]
  },
  {
   "cell_type": "markdown",
   "metadata": {},
   "source": [
    "Note that using the '`w`' flag (for writing) erases the existing contents of the file!  You also \"append\" using '`a`'."
   ]
  },
  {
   "cell_type": "code",
   "execution_count": null,
   "metadata": {},
   "outputs": [],
   "source": [
    "# with open(fname, 'r') as file_in:\n",
    "#     hear = file_in.read()\n",
    "    \n",
    "# print(\"We heard: '{}'\".format(hear))"
   ]
  },
  {
   "cell_type": "markdown",
   "metadata": {},
   "source": [
    "We can also write and read multiple lines..."
   ]
  },
  {
   "cell_type": "code",
   "execution_count": null,
   "metadata": {},
   "outputs": [],
   "source": [
    "# say_lines = say.split()\n",
    "# print(say_lines)\n",
    "\n",
    "# with open(fname, 'w') as file_out:\n",
    "#     for ss in say_lines:\n",
    "#         file_out.write(ss + \"\\n\")"
   ]
  },
  {
   "cell_type": "code",
   "execution_count": null,
   "metadata": {},
   "outputs": [],
   "source": [
    "# with open(fname, 'r') as file_in:\n",
    "#     line = file_in.readlines()\n",
    "\n",
    "# print(line)"
   ]
  },
  {
   "cell_type": "markdown",
   "metadata": {},
   "source": [
    "We can clean off new-line characters using the '`str.strip()`' method."
   ]
  },
  {
   "cell_type": "code",
   "execution_count": null,
   "metadata": {},
   "outputs": [],
   "source": [
    "# with open(fname, 'r') as file_in:\n",
    "#     lines = file_in.readlines()\n",
    "\n",
    "# print(\"Ceaning lines with a for-loop:\")\n",
    "# lines_clean_1 = []\n",
    "# for ll in lines:\n",
    "#     lines_clean_1.append(ll.strip())\n",
    "# print(lines_clean_1)\n",
    "    \n",
    "# print(\"\\nCeaning lines with a 'comprehension':\")\n",
    "# lines_clean_2 = \n",
    "# print(lines_clean_2)"
   ]
  }
 ],
 "metadata": {
  "kernelspec": {
   "display_name": "Python [default]",
   "language": "python",
   "name": "python3"
  },
  "language_info": {
   "codemirror_mode": {
    "name": "ipython",
    "version": 3
   },
   "file_extension": ".py",
   "mimetype": "text/x-python",
   "name": "python",
   "nbconvert_exporter": "python",
   "pygments_lexer": "ipython3",
   "version": "3.5.3"
  }
 },
 "nbformat": 4,
 "nbformat_minor": 2
}
