{
 "cells": [
  {
   "cell_type": "markdown",
   "metadata": {},
   "source": [
    "# Day 1 - Introduction to the Structure and use of Python\n",
    "\n",
    "---\n",
    "\n",
    "---"
   ]
  },
  {
   "cell_type": "markdown",
   "metadata": {},
   "source": [
    "## References"
   ]
  },
  {
   "cell_type": "markdown",
   "metadata": {},
   "source": [
    "- [Official Python Wiki](https://wiki.python.org/moin/) : `wiki.python.org/moin/`\n",
    "- [Official Python Tutorial](https://docs.python.org/3/tutorial/) : `docs.python.org/3/tutorial/`\n",
    "\n",
    "\n",
    "- [Google's Python Course ](https://developers.google.com/edu/python/) : `developers.google.com/edu/python/`\n",
    "- [WikiBooks Python Programming](https://en.wikibooks.org/wiki/Python_Programming) : `wikibooks.org/wiki/Python_Programming`\n",
    "- [Beginning Python, Advanced Python, and Python Exercises](http://www.davekuhlman.org/python_book_01.html) : `davekuhlman.org/python_book_01.html`\n",
    "\n",
    "\n",
    "- [The Hitchhiker’s Guide to Python](http://python-guide-pt-br.readthedocs.io/en/latest/) : `python-guide-pt-br.readthedocs.io/en/latest/`"
   ]
  },
  {
   "cell_type": "markdown",
   "metadata": {},
   "source": [
    "<a id='toc'></a>\n",
    "## Table of Contents"
   ]
  },
  {
   "cell_type": "markdown",
   "metadata": {},
   "source": [
    "* [Big Picture](#picture)\n",
    "    * [What is Python?](#whatis)\n",
    "    * [Features of Python](#features)\n",
    "    * [Some Package Examples](#examples)  \n",
    "        - [Arrays and plotting with `numpy` and `matplotlib`](#ex_plot)  \n",
    "        - [Internet scraping with `requests` and `beautifulsoup`](#ex_internet)\n",
    "    * [Python Ideology](#ideology)\n",
    "    \n",
    "    \n",
    "* [Python Core](#core)\n",
    "    * [Syntax](#syntax)\n",
    "    * [Elements](#elements)\n",
    "    * [Control-Flow Statements](#controlflow)\n",
    "    * [Data Types](#types)\n",
    "    * [Strings](#strings)"
   ]
  },
  {
   "cell_type": "markdown",
   "metadata": {},
   "source": [
    "---\n",
    "\n",
    "---"
   ]
  },
  {
   "cell_type": "markdown",
   "metadata": {},
   "source": [
    "## Examples: python usage examples"
   ]
  },
  {
   "cell_type": "markdown",
   "metadata": {},
   "source": [
    "...."
   ]
  },
  {
   "cell_type": "markdown",
   "metadata": {},
   "source": [
    "<a id='picture'></a>  [Top](#toc)\n",
    "## Big Picture"
   ]
  },
  {
   "cell_type": "markdown",
   "metadata": {},
   "source": [
    "**Computer Program**: *set of instructions that tell a computer (processor) what actions to take.*"
   ]
  },
  {
   "cell_type": "markdown",
   "metadata": {},
   "source": [
    "**Programming Language**: *framework for describing those instructions in a cohensive and systematic way.*"
   ]
  },
  {
   "cell_type": "markdown",
   "metadata": {},
   "source": [
    "The language (specifically the **\"interpreter\"** or the **\"compiler\"** of the language) is responsible for converting between the descriptions in the language into explicit instructions that the \"hardware\" (computer processor) can understand.\n",
    "\n",
    "i.e. `'print(a + b)'`"
   ]
  },
  {
   "cell_type": "code",
   "execution_count": null,
   "metadata": {},
   "outputs": [],
   "source": [
    "# a = 7\n",
    "# b = 5\n",
    "# print(a + b)"
   ]
  },
  {
   "cell_type": "code",
   "execution_count": null,
   "metadata": {},
   "outputs": [],
   "source": [
    "# print(hex(id(a)))\n",
    "# print(hex(id(b)))"
   ]
  },
  {
   "cell_type": "markdown",
   "metadata": {},
   "source": [
    "Code Structure | Language Samples\n",
    "- | -\n",
    "<img src=\"figs/small.png\" style=\"width: 500px;\"/>  | ![Image](figs/codes.png)"
   ]
  },
  {
   "cell_type": "markdown",
   "metadata": {},
   "source": [
    "<a id='whatis'></a>  [Top](#toc)\n",
    "\n",
    "### What is python?"
   ]
  },
  {
   "cell_type": "markdown",
   "metadata": {},
   "source": [
    "- **`python` is written in `C`**, (*thus it is a \"higher\" level language*)\n",
    "    - *fewer lines of code.*\n",
    "    \n",
    "    \n",
    "- Written for **convenient and complexity** instead of bute-force \"power\"\n",
    "    - *lots of new, heavy-lifting code is still written in `C` or `Fortran`.*\n",
    "    - *very complicated processes can be quickly written (or tested) in python.*\n",
    "    \n",
    "    \n",
    "- **\"Interpretted\"** language, instead of \"Compiled\" (like `C`)\n",
    "    - *recall hello-world in `C` vs. `python`.*\n",
    "    \n",
    "    \n",
    "- **Open Source** (unlike other high-level languages like IDL, MatLab, Mathematica)\n",
    "    - *Tremendous amounts of community development, contributions and public packages.*"
   ]
  },
  {
   "cell_type": "markdown",
   "metadata": {},
   "source": [
    "<a id='features'></a>  [Top](#toc)\n",
    "\n",
    "### Features / Nature of Python"
   ]
  },
  {
   "cell_type": "markdown",
   "metadata": {},
   "source": [
    "- **\"Dynamic Typing\"**   \n",
    "\n",
    "    ```fortran\n",
    "    ! fortran\n",
    "    CHARACTER(LEN=6) :: name = \"apples\"\n",
    "    INTEGER :: name = 4\n",
    "    ```\n",
    "    \n",
    "    ```python\n",
    "    # python\n",
    "    name = \"apples\"\n",
    "    name = 4\n",
    "    ```\n",
    "    \n",
    "    - In `python`, *Objects* have types, *variables* do not.\n",
    "\n",
    "\n",
    "\n",
    "- Automatic **\"Memory Management\"** *(and protection)*  \n",
    "\n",
    "    ```C\n",
    "    # c\n",
    "    int *arr = (int *) malloc(NUM*sizeof(int));  \n",
    "    int dat = arr[NUM+20]\n",
    "    ```\n",
    "    \n",
    "    ```python\n",
    "    # python (method 1)\n",
    "    arr = [0 for ii in range(NUM)]\n",
    "    dat = arr[NUM=2]\n",
    "    > IndexError: list index out of range\n",
    "    \n",
    "    # python (method 2)\n",
    "    arr = np.ndarray(NUM)\n",
    "    dat = arr[NUM+20]\n",
    "    > IndexError: index 5 is out of bounds for axis 0 with size 3\n",
    "    ```\n",
    "\n",
    "    - *NOTE: this can have downsides!*\n",
    "    \n",
    "    \n",
    "- Strongly **object oriented** (but can be easily used for \"functional programming\")\n",
    "\n",
    "\n",
    "- **Interactive** (e.g. this Notebook)\n",
    "\n",
    "\n",
    "- Very **large standard library**\n",
    "\n",
    "\n",
    "- **countless external libraries**, like:\n",
    "\n",
    "Name | Description | Reference\n",
    "---- | ----------- | ---------\n",
    "`numpy` | Numerical Python, with powerful array objects | http://www.numpy.org/\n",
    "`scipy` | Scientific Python, lots of numerical methods, databases, etc | https://www.scipy.org/\n",
    "`astropy` | Astronomy Python, astronomy/astrophysics specific libraries | http://www.astropy.org/\n",
    "`SQLAlchemy` | SQL Alchemy, SQL database interface package | http://www.sqlalchemy.org/\n",
    "`cython` | Cython, python-C interface pseudo-language | http://cython.org/\n",
    "`jython` | Jython, javascript friendly python interface | http://www.jython.org/\n",
    "`matplotlib` | MatPlotLib, standard plotting package | http://matplotlib.org/\n",
    "`requests` | Requests, html library | https://pypi.python.org/pypi/requests\n",
    "`django` | Django, web-app framework | https://www.djangoproject.com/\n",
    "`pyglet` | Pyglet, multimedia & game library | https://bitbucket.org/pyglet/pyglet/wiki/Home"
   ]
  },
  {
   "cell_type": "markdown",
   "metadata": {},
   "source": [
    "<a id='examples'></a> [Top](#toc)\n",
    "\n",
    "## Package Examples using `ipython`"
   ]
  },
  {
   "cell_type": "markdown",
   "metadata": {},
   "source": [
    "<a id='ex_plot'></a> [Top](#toc)\n",
    "\n",
    "### Arrays and plotting with `numpy` and `matplotlib`"
   ]
  },
  {
   "cell_type": "code",
   "execution_count": null,
   "metadata": {},
   "outputs": [],
   "source": [
    "# Import the modules that we want\n",
    "#    `matplotlib.pyplot` provides easy access to a bunch of cool methods and objects\n",
    "import matplotlib.pyplot as plt\n",
    "import numpy as np\n",
    "\n",
    "# Choose the number of points we're going to create\n",
    "#    I'm using all caps for this variable name to show that it behaves as a \"constant\"\n",
    "NUM = 1000\n",
    "\n",
    "# Create 'figure' and 'axes' objects for plotting\n",
    "fig, ax = plt.subplots(figsize=[10, 5])\n",
    "# Create `NUM` points evenly spaced between [0.0, 1.0]\n",
    "x0 = np.linspace(0.0, 1.0, NUM)\n",
    "# calculate y = e^(-2*x^2)\n",
    "y0 = np.exp(-2 * (x0**2))\n",
    "# Plot a line of y vs. x, specify the line-weight (\"lw\") and label\n",
    "ax.plot(x0, y0, 'r-', lw=3.0, label='Line')\n",
    "\n",
    "# Set the title of the axes, with a particular fontsize\n",
    "ax.set_title('Banneker-Aztlan', fontsize=20)\n",
    "\n",
    "# Now draw random x values between [0.0, 1.0] (instead of evenly spaced)\n",
    "x1 = np.random.uniform(0.0, 1.0, NUM)\n",
    "# Define y in the same way, but now add some random noise\n",
    "y1 = np.exp(-x1*x1*2.0) + np.random.normal(0.0, 0.1, NUM)\n",
    "# Create a scatter plot of y vs. x\n",
    "ax.scatter(x1, y1, alpha=0.5, label='Points')\n",
    "# Show the figure\n",
    "plt.show()\n",
    "fig.savefig('ba_test.pdf')"
   ]
  },
  {
   "cell_type": "markdown",
   "metadata": {},
   "source": [
    "<a id='ex_internet'></a> [Top](#toc)\n",
    "\n",
    "### Internet scraping with `requests` and `beautifulsoup`"
   ]
  },
  {
   "cell_type": "code",
   "execution_count": null,
   "metadata": {},
   "outputs": [],
   "source": [
    "import requests\n",
    "from bs4 import BeautifulSoup\n",
    "\n",
    "URL = \"https://arxiv.org/abs/1702.02180\"\n",
    "session = requests.Session()\n",
    "response = session.get(URL, timeout=30)\n",
    "soup = BeautifulSoup(response.text, 'html5lib')\n",
    "print(soup)"
   ]
  },
  {
   "cell_type": "code",
   "execution_count": null,
   "metadata": {},
   "outputs": [],
   "source": [
    "meta = soup.find_all(\"meta\")\n",
    "\n",
    "for mm in meta:\n",
    "    if mm.attrs['name'] == 'citation_title':\n",
    "        print(mm['content'] + \"\\n\")\n",
    "        \n",
    "    if mm.attrs['name'] == 'citation_author':\n",
    "        print(mm['content'])"
   ]
  },
  {
   "cell_type": "markdown",
   "metadata": {},
   "source": [
    "<a id=\"ideology\"></a> [Top](#toc)\n",
    "\n",
    "### Python Ideology (the Zen of Python)"
   ]
  },
  {
   "cell_type": "code",
   "execution_count": null,
   "metadata": {},
   "outputs": [],
   "source": [
    "# import this"
   ]
  },
  {
   "cell_type": "markdown",
   "metadata": {},
   "source": [
    "- Beautiful is better than ugly\n",
    "- Explicit is better than implicit\n",
    "- Simple is better than complex\n",
    "- Complex is better than complicated\n",
    "- Readability counts"
   ]
  },
  {
   "cell_type": "markdown",
   "metadata": {},
   "source": [
    "---\n",
    "\n",
    "---"
   ]
  },
  {
   "cell_type": "markdown",
   "metadata": {},
   "source": [
    "<a id=\"core\"></a> [Top](#toc)\n",
    "\n",
    "## Python Core"
   ]
  },
  {
   "cell_type": "markdown",
   "metadata": {},
   "source": [
    "<a id=\"syntax\"></a> [Top](#toc)\n",
    "\n",
    "### Syntax"
   ]
  },
  {
   "cell_type": "markdown",
   "metadata": {},
   "source": [
    "- **White Space**\n",
    "    - **Indentation** determines the nesting of code.  Indents follow colons ('`:`') which set-off a new nesting level.\n",
    "    \n",
    "    ```python\n",
    "    for ii in [0, 1, 2, 3]:\n",
    "        print(ii)\n",
    "    ```\n",
    "    \n",
    "    - **blank lines** have no effect.\n",
    "    \n",
    "    This is exactly the same as the above:\n",
    "    ```python\n",
    "    for ii in [0, 1, 2, 3]:\n",
    "\n",
    "        print(ii)\n",
    "    ```\n",
    "\n",
    "    - **spaces** between different object have no effect\n",
    "    \n",
    "    This is exactly the same as the above (*except ugly*):\n",
    "    ```python\n",
    "    for ii   in [0,   1, 2,3]:\n",
    "        print(    ii    )\n",
    "    ```\n",
    "    \n",
    "    - **line breaks** terminate each unit of code.  (can be combined with semi-colons ['`;`']; but don't).\n",
    "    \n",
    "    ```python\n",
    "    for ii in [0, 1, 2, 3]:\n",
    "        print(ii, end='...'); print(\"... The number is \", ii)\n",
    "    ```\n",
    "    \n",
    "        - But line-breaks within a parentheses or brackets don't matter (but good to follow proper indentation), e.g.\n",
    "        \n",
    "    ```python\n",
    "    some_list = [0, 1, 2, 3,\n",
    "                   4, 5, 6, 7]\n",
    "    ```"
   ]
  },
  {
   "cell_type": "markdown",
   "metadata": {},
   "source": [
    "- **Variable Names** (modified from: http://www.davekuhlman.org/python_book_01.html#names-and-tokens)\n",
    "\n",
    "    - Allowed characters: a-z A-Z 0-9 underscore, and must begin with a letter or underscore.    \n",
    "    - Names and identifiers are case sensitive.    \n",
    "    - Identifiers can be of unlimited length.  \n",
    "\n",
    "    - Naming conventions (Not rigid, but):  \n",
    "\n",
    "        - Modules and packages: *all lower case.*\n",
    "            (e.g. '`import numpy as np`')    \n",
    "        - Globals and constants: *Upper case.*   \n",
    "            (e.g. '`SPEED_LIGHT = 3e10'`) \n",
    "        - Classes: *Bumpy caps with initial upper.*    \n",
    "            (e.g. '`PrintFormatter`' or '`Print_Formatter`')\n",
    "        - Methods and functions: *All lower case with words separated by underscores.*  \n",
    "            (e.g. '`calculate_comoving_distance`')\n",
    "        - Local variables: *Lower case (with underscore between words).*  \n",
    "            (e.g. '`dist_com`')"
   ]
  },
  {
   "cell_type": "markdown",
   "metadata": {},
   "source": [
    "\n",
    "- **Comments**\n",
    "    - \"Inline\": start with a pound (`'#'`)\n",
    "    - \"Block\": start and end with triple quotes (`'''`, or, `\"\"\"`)\n",
    "    \n",
    "    ```python\n",
    "    # Declare and set the variable `a`\n",
    "    def my_func(xx, aa=2.0):\n",
    "        \"\"\"This is a callable 'function', like the one we plotted before.\n",
    "        \n",
    "        Functions often (and should usually) have block comments directly below\n",
    "        their definition which describe what they do, and what their inputs and\n",
    "        outputs are.\n",
    "        \n",
    "        Arguments\n",
    "        ---------\n",
    "        xx : (N,) array of float\n",
    "        aa : float\n",
    "        \n",
    "        Returns\n",
    "        -------\n",
    "        yy : (N,) array of float\n",
    "        \n",
    "        \"\"\"\n",
    "        # construct the argument to the exponent function\n",
    "        arg = - aa * (xx**2)\n",
    "        # Take 'e' to the power of the argument\n",
    "        yy = np.exp(arg)\n",
    "        # return the resulting values\n",
    "        return yy\n",
    "    \n",
    "    ```\n",
    "    \n",
    "    - The above type of block comment, when it directly follows a function or class definition, is called a 'docstring' and can be accessed using the '`help()`' command in `ipython`, or with a trailing '`?`'.  \n",
    "    e.g. '`np.arange?`' or '`help(np.arange)`'"
   ]
  },
  {
   "cell_type": "markdown",
   "metadata": {},
   "source": [
    "<a id='elements'></a> [Top](#toc)\n",
    "\n",
    "### Language Elements"
   ]
  },
  {
   "cell_type": "markdown",
   "metadata": {},
   "source": [
    "- **Literals**: generally strings and numbers, the things that go on the right-hand-side of an assignment, e.g.\n",
    "\n",
    "    ```python\n",
    "    \"Hello\"\n",
    "    14\n",
    "    13.6\n",
    "    4.213e6\n",
    "    ```\n",
    "\n",
    "\n",
    "- **Objects** / **Classes** / **Types**: are structures which contain/store information (like \"literals\", or \"variables\"), and provide certain functions to interface with.\n",
    "\n",
    "    - There are simple, builtin types like `integers`,\n",
    "    ```python\n",
    "    a = int(2)\n",
    "    b = int('3')\n",
    "    print(a, b)\n",
    "    > 2 3\n",
    "    ```\n",
    "    \n",
    "    - More comples types like `lists`,\n",
    "    ```python\n",
    "    a = [1, 5, 3, 4.5, 'apple']\n",
    "    ```\n",
    "    \n",
    "    - And custom types like `classes`,\n",
    "    ```python\n",
    "    class MyContainer:\n",
    "        box = \"of apples\"\n",
    "        jar = 5\n",
    "        \n",
    "    cont = MyContainer()\n",
    "    print(cont.box)\n",
    "    > of apples\n",
    "    print(cont.jar)\n",
    "    > 5\n",
    "    ```\n",
    "    \n",
    "    \n",
    "\n",
    "- **Variables**: object that contains/stores a value which may or may not change, for example, literals, or functions.\n",
    "\n",
    "    ```python\n",
    "    a = np.arange(5)\n",
    "    print(a)\n",
    "    > [0 1 2 3 4]\n",
    "\n",
    "    my_arange = np.arange\n",
    "    print(my_arange(5))\n",
    "    > [0 1 2 3 4]\n",
    "    ```\n",
    "    \n",
    "    \n",
    "- **Functions**: are \"callable\" procedures which can have input and output parameters.\n",
    "\n",
    "    ```python\n",
    "    def my_func(xx, aa=2.0):\n",
    "       # see above\n",
    "    ```\n",
    "\n",
    "- **Statements**\n",
    "\n",
    "    - **Assignment**: set a variable to a value, e.g.\n",
    "\n",
    "    ```python\n",
    "    a = 3.15e7\n",
    "    ```\n",
    "\n",
    "    - **Import**: load a \"module\" from somewhere on the same system (and on the system path), e.g.\n",
    "\n",
    "    ```python\n",
    "    import numpy as np\n",
    "    ```\n",
    "    \n",
    "    - **Control-flow**: these statements like: '`if`', '`elif`' & '`else`', or the loops, like '`for`', '`while`', control the flow of code in response to particular conditions.  We'll come back to these in a minute.\n",
    "\n",
    "    - **Delete**: \"unbind\" or freeup a variable (memory handling is non-trivial, and mostly hidden from the user), e.g.\n",
    "    ```python\n",
    "    large_var = np.zeros((100, 100, 100, 100))\n",
    "    # ...\n",
    "    del large_var\n",
    "    ```\n",
    "\n",
    "    - **Other**: there are also additional statements which deal with particular situations, e.g.  \n",
    "    `yield`, `pass`, `continue`, `break`, `assert`, `raise`...  \n",
    "    ```\n",
    "    ```\n",
    "\n",
    "- **Operators**\n",
    "\n",
    "    - Operators in python are **functions** which take as arguments the objects on each side of the operator, and return some value.  Operators are special because they have particular symbols to trigger/handle those functions.\n",
    "    - These can be simple mathematical operators like, (addition) '`a = 2+2`', (exponentiation), '`b = 10**2`', etc\n",
    "    - These can also be boolean/logical operators like,\n",
    "    \n",
    "    ```python\n",
    "    a = True\n",
    "    b = False\n",
    "    \n",
    "    print(a or b)\n",
    "    > True\n",
    "    c = a and b\n",
    "    print(c)\n",
    "    > False\n",
    "    ```\n",
    "    \n",
    "    - Access operator '`[]`', (used on different types of \"collections\" like lists, arrays, dictionaries)\n",
    "    \n",
    "    ```python\n",
    "    a = np.arange(5)\n",
    "    print(a[0])\n",
    "    > 0\n",
    "    print(a[-1])\n",
    "    > 4\n",
    "    ```\n",
    "    \n",
    "    - Also function call: '`()`', dictionary display: '`{key: value}`', etc"
   ]
  },
  {
   "cell_type": "markdown",
   "metadata": {},
   "source": [
    "<a id='controlflow'></a> [Top](#toc)\n",
    "\n",
    "### More on **Control-Flow Statements** (conditionals and loops)"
   ]
  },
  {
   "cell_type": "markdown",
   "metadata": {},
   "source": [
    "Conditionals"
   ]
  },
  {
   "cell_type": "code",
   "execution_count": null,
   "metadata": {},
   "outputs": [],
   "source": [
    "# Lets choose a random number using `numpy`\n",
    "# var = np.random.randint(0, 10)\n",
    "# print(\"var = \", var)\n",
    "# if var < 5:\n",
    "#     print(\"Lower half: \", var)\n",
    "# else:\n",
    "#     print(\"Upper half: \", var)"
   ]
  },
  {
   "cell_type": "markdown",
   "metadata": {},
   "source": [
    "Loops"
   ]
  },
  {
   "cell_type": "code",
   "execution_count": null,
   "metadata": {},
   "outputs": [],
   "source": [
    "# for loop over list\n",
    "\n",
    "# for loop over array `np.random.randint`"
   ]
  },
  {
   "cell_type": "code",
   "execution_count": null,
   "metadata": {},
   "outputs": [],
   "source": [
    "# Get random integers between [0, 10] until we get 5 above 8.\n",
    "# Count the total number of iterations"
   ]
  },
  {
   "cell_type": "markdown",
   "metadata": {},
   "source": [
    "The `for`-loop is the workhorse of the control-flow statements.  Frequency, we want to iterate over something in a `for`-loop, and also track the number of times we've looped.  For example:"
   ]
  },
  {
   "cell_type": "code",
   "execution_count": null,
   "metadata": {},
   "outputs": [],
   "source": [
    "num = 0\n",
    "var = np.random.randint(0, 100, 5)\n",
    "# ..."
   ]
  },
  {
   "cell_type": "markdown",
   "metadata": {},
   "source": [
    "This can be done automatically using '`enumerate()`':"
   ]
  },
  {
   "cell_type": "code",
   "execution_count": null,
   "metadata": {
    "collapsed": true
   },
   "outputs": [],
   "source": [
    "# ..."
   ]
  },
  {
   "cell_type": "markdown",
   "metadata": {},
   "source": [
    "We also often want to loop over multiple iterables at the same time... use '`zip()`'"
   ]
  },
  {
   "cell_type": "code",
   "execution_count": null,
   "metadata": {
    "collapsed": true
   },
   "outputs": [],
   "source": [
    "var_one = np.random.randint(-10, 0, 10)\n",
    "var_two = np.random.randint(0, 10, 10)\n",
    "# ..."
   ]
  },
  {
   "cell_type": "markdown",
   "metadata": {},
   "source": [
    "<a id='types'></a> [Top](#toc)\n",
    "\n",
    "### (Built-in) Data Types"
   ]
  },
  {
   "cell_type": "markdown",
   "metadata": {},
   "source": [
    "### Numeric"
   ]
  },
  {
   "cell_type": "markdown",
   "metadata": {},
   "source": [
    "- **Integers**"
   ]
  },
  {
   "cell_type": "code",
   "execution_count": null,
   "metadata": {},
   "outputs": [],
   "source": [
    "a = 3\n",
    "print(a, type(a))\n",
    "b = int('27')\n",
    "print(b, type(b))\n",
    "\n",
    "print(a+b, type(a+b))"
   ]
  },
  {
   "cell_type": "markdown",
   "metadata": {},
   "source": [
    "- **Floats**"
   ]
  },
  {
   "cell_type": "code",
   "execution_count": null,
   "metadata": {},
   "outputs": [],
   "source": [
    "a = 3.14159\n",
    "print(a, type(a))\n",
    "b = float('2.71828')\n",
    "print(b, type(b))\n",
    "\n",
    "print(a+b, type(a+b))"
   ]
  },
  {
   "cell_type": "markdown",
   "metadata": {},
   "source": [
    "- Watch out for implicit conversion in python-3!  `python2.7` vs. `python3.5` example!"
   ]
  },
  {
   "cell_type": "markdown",
   "metadata": {},
   "source": [
    "<a id='strings'></a> [Top](#toc)\n",
    "\n",
    "### Strings"
   ]
  },
  {
   "cell_type": "markdown",
   "metadata": {},
   "source": [
    "- Collections of characters (any unicode characters allowed in `python3`)"
   ]
  },
  {
   "cell_type": "code",
   "execution_count": null,
   "metadata": {},
   "outputs": [],
   "source": [
    "a = \"Hello\"\n",
    "b = \"Banneker-Aztlan Institute\"\n",
    "c = a + \" \" + b\n",
    "print(c, type(c))"
   ]
  },
  {
   "cell_type": "code",
   "execution_count": null,
   "metadata": {},
   "outputs": [],
   "source": [
    "d = int(42)\n",
    "print(\"int: \", d, type(d))\n",
    "\n",
    "d = str(d)\n",
    "print(\"str: \", d, type(d))"
   ]
  },
  {
   "cell_type": "markdown",
   "metadata": {},
   "source": [
    "### String Formatting"
   ]
  },
  {
   "cell_type": "markdown",
   "metadata": {},
   "source": [
    "We're going to focus on \"new-style\" string formatting using the `str.format()` function."
   ]
  },
  {
   "cell_type": "code",
   "execution_count": null,
   "metadata": {},
   "outputs": [],
   "source": [
    "yr = 31557600.0   # 31,557,600.0\n",
    "\n",
    "str_yr = \"{}\".format(yr)\n",
    "print(str_yr)"
   ]
  },
  {
   "cell_type": "markdown",
   "metadata": {},
   "source": [
    "\"Old style\" (or c-style) string formatting uses the '`%`' character; but is very similar in the simple use cases."
   ]
  },
  {
   "cell_type": "code",
   "execution_count": null,
   "metadata": {},
   "outputs": [],
   "source": [
    "str_yr_int = \"%d\" % yr\n",
    "print(str_yr_int)"
   ]
  },
  {
   "cell_type": "code",
   "execution_count": null,
   "metadata": {},
   "outputs": [],
   "source": [
    "str_yr_flt = \"%f\" % yr\n",
    "print(str_yr_flt)"
   ]
  },
  {
   "cell_type": "code",
   "execution_count": null,
   "metadata": {},
   "outputs": [],
   "source": [
    "hr = 3600\n",
    "day = \"monday\"\n",
    "\n",
    "str_hr = \"{}\".format(hr)\n",
    "print(str_hr)\n",
    "\n",
    "str_day = \"{}\".format(day)\n",
    "print(str_day)"
   ]
  },
  {
   "cell_type": "code",
   "execution_count": null,
   "metadata": {},
   "outputs": [],
   "source": [
    "print(\"{:f}\".format(np.pi))\n",
    "print(\"{:.2f}\".format(np.pi))"
   ]
  },
  {
   "cell_type": "markdown",
   "metadata": {},
   "source": [
    "### Basic String Operations"
   ]
  },
  {
   "cell_type": "code",
   "execution_count": null,
   "metadata": {},
   "outputs": [],
   "source": [
    "test = \"Complex is better than complicated\"\n",
    "# Find the length of a string (this also works with lists and other collections)\n",
    "print(\"Length: \")\n",
    "print(\"First 10 characters: \")\n",
    "print(\"First half: \")\n",
    "# Convert to a list\n",
    "\n",
    "# Print each word with a for loop\n",
    "\n",
    "# Make a new string replacing each space with a comma (do this two ways)"
   ]
  }
 ],
 "metadata": {
  "kernelspec": {
   "display_name": "Python [default]",
   "language": "python",
   "name": "python3"
  },
  "language_info": {
   "codemirror_mode": {
    "name": "ipython",
    "version": 3
   },
   "file_extension": ".py",
   "mimetype": "text/x-python",
   "name": "python",
   "nbconvert_exporter": "python",
   "pygments_lexer": "ipython3",
   "version": "3.5.3"
  }
 },
 "nbformat": 4,
 "nbformat_minor": 2
}
