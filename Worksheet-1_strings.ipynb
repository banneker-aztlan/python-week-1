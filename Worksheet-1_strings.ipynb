{
 "cells": [
  {
   "cell_type": "markdown",
   "metadata": {},
   "source": [
    "# String Formatting Exercises"
   ]
  },
  {
   "cell_type": "markdown",
   "metadata": {},
   "source": [
    "Use these as references:\n",
    "- [pyformat.info](pyformat.info)\n",
    "\n",
    "- [docs.python.org/3/library/string.html](https://docs.python.org/3/library/string.html#format-specification-mini-language)"
   ]
  },
  {
   "cell_type": "markdown",
   "metadata": {},
   "source": [
    "Do these exercises by writing a script (i.e. a '`worksheet1.py`' file, and running it with '`python worksheet1.py`').\n",
    "\n",
    "Start with the following variables:"
   ]
  },
  {
   "cell_type": "code",
   "execution_count": null,
   "metadata": {
    "collapsed": true
   },
   "outputs": [],
   "source": [
    "title = \"Banneker + Aztlan Initiative\"\n",
    "month = 6\n",
    "day = 12\n",
    "year = 2017\n",
    "width = 30"
   ]
  },
  {
   "cell_type": "markdown",
   "metadata": {},
   "source": [
    "### 1) Write out the date in the following formats:"
   ]
  },
  {
   "cell_type": "markdown",
   "metadata": {},
   "source": [
    "Using the above variables,\n",
    "\n",
    "a) *Note that the month is \"zero-padded\" ('`06`', instead of just '`6`'):*\n",
    "```\n",
    "2017/06/12\n",
    "```\n",
    "\n",
    "b) *Note that only the last two digits of the year are shown:*\n",
    "```\n",
    "06/12/17\n",
    "```"
   ]
  },
  {
   "cell_type": "markdown",
   "metadata": {},
   "source": [
    "### 2) Draw an underline to match '`title`'"
   ]
  },
  {
   "cell_type": "markdown",
   "metadata": {},
   "source": [
    "Print out the following string (using the `title` variable, and without manually typing more than a single '`=`' character).\n",
    "```\n",
    "Banneker + Aztlan Initiative\n",
    "============================\n",
    "```\n",
    "\n",
    "Hint: *not only can you add two strings together (i.e. `abc` + `def`), but you can also multiple a string by an integer - try it!*"
   ]
  },
  {
   "cell_type": "markdown",
   "metadata": {},
   "source": [
    "### 3) Use a `for`-loop and `if`-statement to write:"
   ]
  },
  {
   "cell_type": "markdown",
   "metadata": {},
   "source": [
    "Note: *there are `width` (i.e. 30) characters between each pair of \"pipes\": `|...|`*"
   ]
  },
  {
   "cell_type": "markdown",
   "metadata": {},
   "source": [
    "```\n",
    "|==============================|\n",
    "|Banneker                      |\n",
    "|                        Aztlan|\n",
    "|          Initiative          |\n",
    "|          2017/06/12          |\n",
    "|==============================|\n",
    "```\n",
    "                    "
   ]
  }
 ],
 "metadata": {
  "kernelspec": {
   "display_name": "Python [default]",
   "language": "python",
   "name": "python3"
  },
  "language_info": {
   "codemirror_mode": {
    "name": "ipython",
    "version": 3
   },
   "file_extension": ".py",
   "mimetype": "text/x-python",
   "name": "python",
   "nbconvert_exporter": "python",
   "pygments_lexer": "ipython3",
   "version": "3.5.3"
  }
 },
 "nbformat": 4,
 "nbformat_minor": 2
}
