{
 "cells": [
  {
   "cell_type": "markdown",
   "metadata": {},
   "source": [
    "# Worksheet 2 - Collections and Classes\n",
    "\n",
    "------------------------------------------------------------\n",
    "\n",
    "------------------------------------------------------------"
   ]
  },
  {
   "cell_type": "markdown",
   "metadata": {},
   "source": [
    "Recall some of the builtin methods we've used: `list`, `set`, `sorted`, `print`, `zip`, `enumerate` ..."
   ]
  },
  {
   "cell_type": "markdown",
   "metadata": {},
   "source": [
    "Write solutions to the following problems in a python script.  Add descriptive comments explaining what each line of code is doing."
   ]
  },
  {
   "cell_type": "markdown",
   "metadata": {},
   "source": [
    "## I) Collections"
   ]
  },
  {
   "cell_type": "markdown",
   "metadata": {},
   "source": [
    "### 1) Construct a dictionary named '`encoder_dict`' which maps from each (lower-case) letter in the alphabet to a different, random letter in the alphabet.  \n",
    "\n",
    "**HINT 1**: *you can get a string containing all letters from the `string` package: '`string.ascii_lowercase`'*\n",
    "\n",
    "**HINT 2**: *you can randomize an iterable (list, array, etc) in-place using '`np.random.shuffle`'.*"
   ]
  },
  {
   "cell_type": "markdown",
   "metadata": {},
   "source": [
    "### 2) Using only the '`encoder_dict`' object, construct another `dict` named '`decoder_dict`' which maps from the randomized letters, back to the alphabetical letters."
   ]
  },
  {
   "cell_type": "markdown",
   "metadata": {},
   "source": [
    "### 3) create function '`encode(data, encoder_dict)`' and '`decode(data, decoder_dict)`', which encode and decode a `str` (passed in through the `data` variable) using the cipher you've constructed.\n",
    "\n",
    "**HINT 1**: *you can convert a list of characters into a string by using: `''.join(char_list)`*\n",
    "\n",
    "**HINT 2**: *to test your functions, add the following to the end of your script to make sure that it works as expected:*"
   ]
  },
  {
   "cell_type": "code",
   "execution_count": null,
   "metadata": {},
   "outputs": [],
   "source": [
    "input = \"the quick brown fox jumps over the lazy dog\"\n",
    "\n",
    "output = encode(input, encoder_dict)\n",
    "check_input = decode(output, decoder_dict)\n",
    "\n",
    "print(\"This should be False:\", input == output)\n",
    "print(\"This should be True:\", input == check_input)"
   ]
  },
  {
   "cell_type": "markdown",
   "metadata": {},
   "source": [
    "------------------------------------------------------------\n",
    "\n",
    "------------------------------------------------------------\n",
    "\n",
    "\n",
    "## II) Classes"
   ]
  },
  {
   "cell_type": "markdown",
   "metadata": {},
   "source": [
    "### 1) Create a class called '`RandomCipher`'.  In the `__init__()` method, create and store the `encoder_dict` and `decoder_dict` objects."
   ]
  },
  {
   "cell_type": "markdown",
   "metadata": {},
   "source": [
    "### 2) Add the '`encode`' and '`decode`' functions to the `RandomCipher` class.  Use the stored `encoder_dict` and `decoder_dict` dictionaries instead of passing them as arguments"
   ]
  },
  {
   "cell_type": "markdown",
   "metadata": {},
   "source": [
    "------------------------------------------------------------\n",
    "\n",
    "------------------------------------------------------------\n",
    "\n",
    "## III) SubClasses"
   ]
  },
  {
   "cell_type": "markdown",
   "metadata": {},
   "source": [
    "### 1) Create a subclass of `RandomCipher` called `ShiftCipher`.  In the `__init__` statement, construct the encoder and decoder dictionaries to \"shift\" each letter, instead of mapping it to a random letter.  The `__init__` should take an argument that determines the number of positions to shift by."
   ]
  },
  {
   "cell_type": "markdown",
   "metadata": {},
   "source": [
    "A \"shift\" cipher is one which switches one letter for another one, a certain number of letters away.  For example, with a shift of '`4`':\n",
    "\n",
    "`a b c d ... ===> e f g h ... `  \n",
    "`... t u v w ... ===> ... x y z a ...`  \n",
    "`cat ===> gex`"
   ]
  }
 ],
 "metadata": {
  "kernelspec": {
   "display_name": "Python [default]",
   "language": "python",
   "name": "python3"
  },
  "language_info": {
   "codemirror_mode": {
    "name": "ipython",
    "version": 3
   },
   "file_extension": ".py",
   "mimetype": "text/x-python",
   "name": "python",
   "nbconvert_exporter": "python",
   "pygments_lexer": "ipython3",
   "version": "3.5.3"
  }
 },
 "nbformat": 4,
 "nbformat_minor": 2
}
