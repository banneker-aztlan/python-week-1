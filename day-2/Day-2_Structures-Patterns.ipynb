{
 "cells": [
  {
   "cell_type": "markdown",
   "metadata": {},
   "source": [
    "# Day 2 - Structures and Patterns\n",
    "\n",
    "-------------------------------------------------\n",
    "\n",
    "-------------------------------------------------"
   ]
  },
  {
   "cell_type": "code",
   "execution_count": null,
   "metadata": {
    "collapsed": true
   },
   "outputs": [],
   "source": [
    "import numpy as np"
   ]
  },
  {
   "cell_type": "markdown",
   "metadata": {},
   "source": [
    "## Collection Data Types"
   ]
  },
  {
   "cell_type": "markdown",
   "metadata": {},
   "source": [
    "### Lists\n",
    "\n",
    "Lists are *mutable* --- they can be changed.  Items can be added, inserted, deleted, modified etc."
   ]
  },
  {
   "cell_type": "code",
   "execution_count": null,
   "metadata": {},
   "outputs": [],
   "source": [
    "# shopping = [\"apples\", \"oranges\", \"bananas\", \"peaches\", \"flour\"]\n",
    "# print(\"input = \", shopping, \" with {} elements\".format(len(shopping)))\n",
    "# print()\n",
    "\n",
    "# print(\"sorted = \", sorted(shopping))\n",
    "# print()\n",
    "\n",
    "# peach_index = shopping.index('peaches')\n",
    "# print(\"peach index = \", peach_index, shopping[peach_index])\n",
    "# print()\n",
    "\n",
    "# del shopping[peach_index]\n",
    "# print(\"deleted peach = \", shopping)\n",
    "# print()\n",
    "\n",
    "# wish_list = [\"ferrari\", \"baseball skills\"]\n",
    "# print(\"shopping has {} items, wish-list has {}\".format(len(shopping), len(wish_list)))\n",
    "# print()\n",
    "\n",
    "# complete = shopping + wish_list\n",
    "# print(\"complete has {} items!!\".format(len(complete)))"
   ]
  },
  {
   "cell_type": "markdown",
   "metadata": {},
   "source": [
    "Because lists are mutable, changes can happen *\"in-place\"*:"
   ]
  },
  {
   "cell_type": "code",
   "execution_count": null,
   "metadata": {},
   "outputs": [],
   "source": [
    "# shopping.append(\"tortillas\")\n",
    "# print(\"appended tortillas = \", shopping)\n",
    "# print()\n",
    "\n",
    "# shopping.insert(1, \"coffee\")\n",
    "# print(\"inserted coffee = \", shopping)"
   ]
  },
  {
   "cell_type": "markdown",
   "metadata": {},
   "source": [
    "### Tuples\n",
    "\n",
    "Tuples are *immutable* -- they cannot be changed once they are created."
   ]
  },
  {
   "cell_type": "code",
   "execution_count": null,
   "metadata": {},
   "outputs": [],
   "source": [
    "# aa = (1, 3, 4, 1, 2, 1)\n",
    "# print(aa)\n",
    "\n",
    "# aa[0] = 10\n",
    "\n",
    "# print(\"There are {} ones\".format(aa.count(1)))"
   ]
  },
  {
   "cell_type": "markdown",
   "metadata": {},
   "source": [
    "### Dictionaries\n",
    "\n",
    "A dictionary is a collection of key-value pairs.  A dictionary is a \"mapping\" from keys to values.  Dictionaries are mutable."
   ]
  },
  {
   "cell_type": "code",
   "execution_count": null,
   "metadata": {},
   "outputs": [],
   "source": [
    "prices = {\"oranges\": 2.25, \"apples\": 1.50, \"bananas\": 0.49}\n",
    "print(prices, type(prices))\n",
    "print(\"apples = \", prices['apples'])"
   ]
  },
  {
   "cell_type": "markdown",
   "metadata": {},
   "source": [
    "NOTE: the order is *not* preserved for dictionary elements.  But there is an '`OrderedDict`' which preserves the order."
   ]
  },
  {
   "cell_type": "code",
   "execution_count": null,
   "metadata": {},
   "outputs": [],
   "source": [
    "# print(\"Keys: \", prices.keys())\n",
    "# print(\"Values: \", prices.values())\n",
    "# print(prices.values()[1])\n",
    "\n",
    "# for val in prices.values():\n",
    "#     print(val)\n",
    "    \n",
    "# for key, val in prices.items():\n",
    "#     print(\"At the store, {:8} cost ${:.2f}\".format(key, val))"
   ]
  },
  {
   "cell_type": "markdown",
   "metadata": {},
   "source": [
    "Keys and values do *not* have to be \"literals\" (i.e. numbers and strings)"
   ]
  },
  {
   "cell_type": "code",
   "execution_count": null,
   "metadata": {},
   "outputs": [],
   "source": [
    "# class Fruit:\n",
    "#     pass\n",
    "\n",
    "# grapefruit = Fruit()\n",
    "# prices[grapefruit] = \"expensive\"\n",
    "# for kk, vv in prices.items():\n",
    "#     print(kk, vv)\n",
    "    \n",
    "# watermelon = Fruit()\n",
    "# prices[watermelon] = \"seasonal\"\n",
    "# for kk, vv in prices.items():\n",
    "#     print(kk, vv)"
   ]
  },
  {
   "cell_type": "markdown",
   "metadata": {},
   "source": [
    "### Sets\n",
    "\n",
    "Sets are unordered, mutable collections where each value is unique."
   ]
  },
  {
   "cell_type": "code",
   "execution_count": null,
   "metadata": {},
   "outputs": [],
   "source": [
    "# banana_letters = set(\"banana\")\n",
    "# print(\"banana: \", banana_letters)\n",
    "\n",
    "# alabama_letters = set(\"alabama\")\n",
    "# print(\"alabama: \", alabama_letters)\n",
    "# print(\"alabama (sorted): \", sorted(alabama_letters), type(sorted(alabama_letters)))\n",
    "# print()\n",
    "\n",
    "# print(\"Union (v1): \", banana_letters.union(alabama_letters))\n",
    "# print(\"Union (v2): \", banana_letters | alabama_letters)\n",
    "# print()\n",
    "\n",
    "# print(\"Intersection (v1): \", banana_letters.intersection(alabama_letters))\n",
    "# print(\"Intersection (v2): \", banana_letters & alabama_letters)\n",
    "# print()\n",
    "\n",
    "# print(\"Symmetric Difference (v1): \", banana_letters.symmetric_difference(alabama_letters))\n",
    "# print(\"Symmetric Difference (v2): \", banana_letters ^ alabama_letters)\n"
   ]
  },
  {
   "cell_type": "markdown",
   "metadata": {},
   "source": [
    "## \"Comprehensions\" for creating collections"
   ]
  },
  {
   "cell_type": "markdown",
   "metadata": {},
   "source": [
    "A \"comprehension\" is a way of creating a collection while iterating over something."
   ]
  },
  {
   "cell_type": "code",
   "execution_count": null,
   "metadata": {},
   "outputs": [],
   "source": [
    "# nums = list(np.arange(10))\n",
    "# print(\"nums = \", nums)\n",
    "# print()\n",
    "\n",
    "# squares = [...]\n",
    "# print(\"squares = \", squares)\n",
    "# print()\n",
    "\n",
    "# evens = [...]\n",
    "# print(\"evens = \", evens)"
   ]
  },
  {
   "cell_type": "markdown",
   "metadata": {},
   "source": [
    "Can be used for '`list`'s, '`dict`'s and '`set`'s:"
   ]
  },
  {
   "cell_type": "code",
   "execution_count": null,
   "metadata": {},
   "outputs": [],
   "source": [
    "# cubes = {...}\n",
    "# print(cubes, type(cubes))"
   ]
  },
  {
   "cell_type": "code",
   "execution_count": null,
   "metadata": {},
   "outputs": [],
   "source": [
    "# nums = np.random.randint(0, 5, 20)\n",
    "# print(nums)\n",
    "# print()\n",
    "\n",
    "# unique_doubles = {...}\n",
    "# print(unique_doubles)"
   ]
  },
  {
   "cell_type": "markdown",
   "metadata": {},
   "source": [
    "## Classes"
   ]
  },
  {
   "cell_type": "markdown",
   "metadata": {},
   "source": [
    "**Classes** are objects for organizing (storing and managing) related functions and data."
   ]
  },
  {
   "cell_type": "markdown",
   "metadata": {},
   "source": [
    "The simplest class is an empty one:"
   ]
  },
  {
   "cell_type": "code",
   "execution_count": null,
   "metadata": {
    "collapsed": true
   },
   "outputs": [],
   "source": [
    "class Empty:\n",
    "    pass"
   ]
  },
  {
   "cell_type": "markdown",
   "metadata": {},
   "source": [
    "\"**Instances**\" are objects created by classes.  The \"Class\" is like the concept, whereas an \"instance\" is an example --- a concrete realization.  To create an instance, you call the Class."
   ]
  },
  {
   "cell_type": "code",
   "execution_count": null,
   "metadata": {},
   "outputs": [],
   "source": [
    "# Create an instancee"
   ]
  },
  {
   "cell_type": "markdown",
   "metadata": {},
   "source": [
    "Classes (and instances) can store variables and functions as \"**attributes**\":"
   ]
  },
  {
   "cell_type": "code",
   "execution_count": null,
   "metadata": {},
   "outputs": [],
   "source": [
    "# Store some variables\n",
    "\n",
    "# Print some variables"
   ]
  },
  {
   "cell_type": "markdown",
   "metadata": {},
   "source": [
    "When instances are created (\"**Instantiated**\"), the class's '`__init__`' function is run.  We can customize the initialization behavior by \"**overriding**\" that method:"
   ]
  },
  {
   "cell_type": "code",
   "execution_count": null,
   "metadata": {},
   "outputs": [],
   "source": [
    "class HalfEmpty:\n",
    "\n",
    "    def __init__(self):\n",
    "        print(\"[... pssst: HalfEmpty.__init__() is running ...]\")\n",
    "        self.creator = \"Luke\"\n",
    "        self.organization = \"Banneker-Aztlan\"\n",
    "        \n",
    "# Initialize and print"
   ]
  },
  {
   "cell_type": "code",
   "execution_count": null,
   "metadata": {
    "collapsed": true
   },
   "outputs": [],
   "source": [
    "# Add an initialization argument\n",
    "\n",
    "# Add a custom function (datetime)"
   ]
  },
  {
   "cell_type": "markdown",
   "metadata": {},
   "source": [
    "## SubClasses"
   ]
  },
  {
   "cell_type": "markdown",
   "metadata": {},
   "source": [
    "**Subclasses** are a way of customizing `Classes`, by \"extending\" and modifying their behavior.  A Subclass uses the \"base\" class (or \"super\" class) like a template."
   ]
  },
  {
   "cell_type": "code",
   "execution_count": null,
   "metadata": {
    "collapsed": true
   },
   "outputs": [],
   "source": [
    "class Rectangle:\n",
    "    \n",
    "    def __init__(self, width, height):\n",
    "        self.width = width\n",
    "        self.height = height\n",
    "    \n",
    "    # def area\n",
    "    \n",
    "    # def perimeter"
   ]
  },
  {
   "cell_type": "code",
   "execution_count": null,
   "metadata": {
    "collapsed": true
   },
   "outputs": [],
   "source": [
    "class Square:\n",
    "    pass"
   ]
  },
  {
   "cell_type": "markdown",
   "metadata": {},
   "source": [
    "## Python Enhancement Proposal (PEP) 8 - [The python style guide](https://www.python.org/dev/peps/pep-0008/)"
   ]
  },
  {
   "cell_type": "markdown",
   "metadata": {},
   "source": [
    "## Python Packages Example: [Corner](https://github.com/dfm/corner.py)"
   ]
  }
 ],
 "metadata": {
  "kernelspec": {
   "display_name": "Python [default]",
   "language": "python",
   "name": "python3"
  },
  "language_info": {
   "codemirror_mode": {
    "name": "ipython",
    "version": 3
   },
   "file_extension": ".py",
   "mimetype": "text/x-python",
   "name": "python",
   "nbconvert_exporter": "python",
   "pygments_lexer": "ipython3",
   "version": "3.5.3"
  }
 },
 "nbformat": 4,
 "nbformat_minor": 2
}
